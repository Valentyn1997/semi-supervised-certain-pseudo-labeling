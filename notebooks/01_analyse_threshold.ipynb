{
 "cells": [
  {
   "cell_type": "code",
   "execution_count": null,
   "metadata": {},
   "outputs": [],
   "source": [
    "import mlflow\n",
    "import pandas as pd\n",
    "import ipywidgets as widgets\n",
    "from ipywidgets import interact\n",
    "\n",
    "import sys\n",
    "import glob\n",
    "sys.path.append('../')\n",
    "\n",
    "from src import GLOBAL_ARTIFACTS_PATH\n",
    "import matplotlib.pyplot as plt \n",
    "\n",
    "mlflow.set_tracking_uri('http://127.0.0.1:5000')\n",
    "run_infos = [{\"r_id\": 'ae9ff4cde431429cb9982f4c156a6ef9', \"c\":'red'},{\"r_id\":'8485970c254f46fd9b90eca63e061fcf', \"c\":'blue'}]"
   ]
  },
  {
   "cell_type": "code",
   "execution_count": null,
   "metadata": {},
   "outputs": [],
   "source": []
  },
  {
   "cell_type": "code",
   "execution_count": null,
   "metadata": {},
   "outputs": [],
   "source": [
    "def get_df_for_runs(run_infos):\n",
    "    all_dfs = []\n",
    "    for run_info in run_infos:\n",
    "        dfs = []\n",
    "        \n",
    "        run = mlflow.get_run(run_info['r_id'])\n",
    "        artifacts_path = GLOBAL_ARTIFACTS_PATH + '/' + '/'.join(run.info.artifact_uri.split('/')[-4:]) \n",
    "\n",
    "        dfs_paths = glob.glob(artifacts_path + '/*')\n",
    "        for df_path in dfs_paths:\n",
    "            dfs.append(pd.read_csv(df_path))\n",
    "        df = pd.concat(dfs[::-1], ignore_index=True)\n",
    "        df.correctness = df.correctness.astype(int)\n",
    "        c_type = run.data.params['model/certainty_strategy']\n",
    "        run_info[\"c_type\"]=c_type       \n",
    "        all_dfs.append([df, run_info])\n",
    "        print(f'loaded {artifacts_path}')\n",
    "    return all_dfs"
   ]
  },
  {
   "cell_type": "code",
   "execution_count": null,
   "metadata": {},
   "outputs": [],
   "source": [
    "def plot_correctness(dfs, threshold):\n",
    "    f, (ax1, ax2) = plt.subplots(2, 1, sharex=True, figsize=(20,10))\n",
    "    legends = []\n",
    "    for data in dfs: \n",
    "        legends.append(data[1][\"c_type\"])\n",
    "        df = data[0]\n",
    "        df[df.score > threshold].groupby('epoch').correctness.mean().plot.line(color=data[1]['c'], alpha=0.6, ax=ax1)\n",
    "        df[df.score > threshold].groupby('epoch').correctness.count().plot.line(color=data[1]['c'], alpha=0.6, ax=ax2)\n",
    "    \n",
    "    f.suptitle(f'Threshold {threshold}', fontsize=16)\n",
    "    ax1.set_ylabel('accuracy of pseudo-label')\n",
    "    ax2.set_ylabel('Number of samples above threshold')\n",
    "    ax1.legend(legends)\n",
    "    ax2.legend(legends)\n",
    "    plt.show()\n",
    "    \n",
    "    "
   ]
  },
  {
   "cell_type": "code",
   "execution_count": null,
   "metadata": {},
   "outputs": [],
   "source": [
    "dfs = get_df_for_runs(run_infos)"
   ]
  },
  {
   "cell_type": "code",
   "execution_count": null,
   "metadata": {},
   "outputs": [],
   "source": [
    "threshold = 0.88\n",
    "\n",
    "plot_correctness(dfs, threshold)"
   ]
  },
  {
   "cell_type": "code",
   "execution_count": null,
   "metadata": {},
   "outputs": [],
   "source": []
  },
  {
   "cell_type": "code",
   "execution_count": null,
   "metadata": {},
   "outputs": [],
   "source": []
  }
 ],
 "metadata": {
  "kernelspec": {
   "display_name": "Python 3",
   "language": "python",
   "name": "python3"
  },
  "language_info": {
   "codemirror_mode": {
    "name": "ipython",
    "version": 3
   },
   "file_extension": ".py",
   "mimetype": "text/x-python",
   "name": "python",
   "nbconvert_exporter": "python",
   "pygments_lexer": "ipython3",
   "version": "3.8.5"
  }
 },
 "nbformat": 4,
 "nbformat_minor": 4
}