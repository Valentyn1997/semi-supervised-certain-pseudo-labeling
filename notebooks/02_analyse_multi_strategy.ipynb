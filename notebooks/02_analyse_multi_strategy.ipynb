{
 "cells": [
  {
   "cell_type": "markdown",
   "metadata": {},
   "source": [
    "# Number of samples (above a certain threshold) vs. accuracy"
   ]
  },
  {
   "cell_type": "code",
   "execution_count": null,
   "metadata": {},
   "outputs": [],
   "source": [
    "import mlflow\n",
    "import pandas as pd\n",
    "import ipywidgets as widgets\n",
    "from ipywidgets import interact\n",
    "import numpy as np\n",
    "from sklearn.metrics import roc_auc_score\n",
    "from tqdm import tqdm\n",
    "\n",
    "import sys\n",
    "import glob\n",
    "sys.path.append('../')\n",
    "\n",
    "from src import GLOBAL_ARTIFACTS_PATH\n",
    "import matplotlib.pyplot as plt \n",
    "# %matplotlib notebook\n",
    "\n",
    "mlflow.set_tracking_uri('http://127.0.0.1:5005')\n",
    "# run_id = 'dd9271cad9c4492b96905d2c16bfdcda'\n",
    "# run_id = 'b310e158a398481f8c30175b7571139b' # PECertainty Multi, Uniform Dropout, 0.25\n",
    "# run_id = '46a5847a72694b539a76896e5a9e6b09' # SoftMax Multi, Uniform Dropout, 0.25\n",
    "run_id = '4d9affd3520e40d1ab77957307020c85' # SoftMax Multi, not finished, Uniform Dropout, 0.25"
   ]
  },
  {
   "cell_type": "markdown",
   "metadata": {},
   "source": [
    "## Prepare Dataframe"
   ]
  },
  {
   "cell_type": "code",
   "execution_count": null,
   "metadata": {},
   "outputs": [],
   "source": [
    "run = mlflow.get_run(run_id)\n",
    "artifacts_path = GLOBAL_ARTIFACTS_PATH + '/' + '/'.join(run.info.artifact_uri.split('/')[-4:]) \n",
    "dfs_paths = glob.glob(artifacts_path + '/*')\n",
    "artifacts_path\n",
    "\n",
    "dfs = []\n",
    "for df_path in tqdm(dfs_paths):\n",
    "    dfs.append(pd.read_csv(df_path))\n",
    "df = pd.concat(dfs[::-1], ignore_index=True)\n",
    "df.correctness = df.correctness.astype(int)"
   ]
  },
  {
   "cell_type": "code",
   "execution_count": null,
   "metadata": {},
   "outputs": [],
   "source": [
    "df"
   ]
  },
  {
   "cell_type": "code",
   "execution_count": null,
   "metadata": {},
   "outputs": [],
   "source": [
    "strategies = df.strategy.unique()\n",
    "epochs = df.epoch.unique()"
   ]
  },
  {
   "cell_type": "markdown",
   "metadata": {},
   "source": [
    "## Plotting"
   ]
  },
  {
   "cell_type": "code",
   "execution_count": null,
   "metadata": {},
   "outputs": [],
   "source": [
    "linestyle_tuple = [\n",
    "    ('solid','-','v',80),\n",
    "     ('dotted',                (0, (1, 1)),'',100),\n",
    "     ('densely dotted',       'solid', 'D',120),\n",
    "     ('loosely dashed',        'solid','*',140),\n",
    "     ('dashed',                (0, (5, 5)),'',160),\n",
    "     ('densely dashed',        (0, (5, 1)),'',180),\n",
    "    ('loosely dotted',        (0, (1, 10)), 'o',200),\n",
    "\n",
    "\n",
    "     ('loosely dashdotted',    (0, (3, 10, 1, 10))),\n",
    "     ('dashdotted',            (0, (3, 5, 1, 5))),\n",
    "     ('densely dashdotted',    (0, (3, 1, 1, 1))),\n",
    "\n",
    "     ('dashdotdotted',         (0, (3, 5, 1, 5, 1, 5))),\n",
    "     ('loosely dashdotdotted', (0, (3, 10, 1, 10, 1, 10))),\n",
    "     ('densely dashdotdotted', (0, (3, 1, 1, 1, 1, 1)))]\n",
    "\n",
    "for epoch in range(max(epochs)):\n",
    "    plt.figure(figsize=(15,10))\n",
    "    group = df[df.epoch==epoch]\n",
    "    legends = []\n",
    "    for idx, strategy in enumerate(strategies): \n",
    "        legends.append(f'{strategy}')\n",
    "        df_strat = group[group.strategy==strategy]\n",
    "        total_number = len(df_strat)\n",
    "        \n",
    "        x_values = np.linspace(10, total_number, 1000, endpoint=True, dtype=np.int)\n",
    "        \n",
    "        y_values = []\n",
    "        for x in tqdm(x_values): \n",
    "            acc = df_strat.sort_values('score', ascending=False).head(x).correctness.mean()\n",
    "            y_values.append(acc)\n",
    "        plt.plot(\n",
    "            x_values, \n",
    "            y_values, \n",
    "            label=strategy, \n",
    "            linestyle=linestyle_tuple[idx][1], \n",
    "            marker=linestyle_tuple[idx][2],\n",
    "            linewidth=2, \n",
    "            markevery=linestyle_tuple[idx][3]\n",
    "        )\n",
    "    plt.legend(loc=4) \n",
    "    plt.title(f'epoch: {epoch}')\n",
    "    plt.show()"
   ]
  },
  {
   "cell_type": "code",
   "execution_count": null,
   "metadata": {},
   "outputs": [],
   "source": []
  }
 ],
 "metadata": {
  "kernelspec": {
   "display_name": "Python 3",
   "language": "python",
   "name": "python3"
  },
  "language_info": {
   "codemirror_mode": {
    "name": "ipython",
    "version": 3
   },
   "file_extension": ".py",
   "mimetype": "text/x-python",
   "name": "python",
   "nbconvert_exporter": "python",
   "pygments_lexer": "ipython3",
   "version": "3.8.5"
  }
 },
 "nbformat": 4,
 "nbformat_minor": 4
}
